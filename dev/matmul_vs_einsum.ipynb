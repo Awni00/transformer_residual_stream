{
 "cells": [
  {
   "cell_type": "markdown",
   "metadata": {},
   "source": [
    "## Speed test: `torch.matmul` vs `torch.einsum`"
   ]
  },
  {
   "cell_type": "code",
   "execution_count": 3,
   "metadata": {},
   "outputs": [],
   "source": [
    "import timeit"
   ]
  },
  {
   "cell_type": "code",
   "execution_count": 4,
   "metadata": {},
   "outputs": [],
   "source": [
    "bsz = 32\n",
    "d = 512\n",
    "A = torch.randn(bsz, d, d).cuda()\n",
    "B = torch.randn(bsz, d, d).cuda()"
   ]
  },
  {
   "cell_type": "code",
   "execution_count": 5,
   "metadata": {},
   "outputs": [],
   "source": [
    "import torch\n",
    "import torch.nn as nn\n",
    "\n",
    "class MatMulModule(nn.Module):\n",
    "    def __init__(self):\n",
    "        super(MatMulModule, self).__init__()\n",
    "        self.wa = nn.Linear(d, d)\n",
    "        self.wb = nn.Linear(d, d)\n",
    "\n",
    "    def forward(self, x, y):\n",
    "        x = self.wa(x)\n",
    "        y = self.wb(y)\n",
    "        return torch.matmul(x, y)\n",
    "\n",
    "class EinsumModule(nn.Module):\n",
    "    def __init__(self):\n",
    "        super(EinsumModule, self).__init__()\n",
    "        self.wa = nn.Linear(d, d)\n",
    "        self.wb = nn.Linear(d, d)\n",
    "\n",
    "    def forward(self, x, y):\n",
    "        x = self.wa(x)\n",
    "        y = self.wb(y)\n",
    "        return torch.einsum('bij,bjk->bik', x, y)"
   ]
  },
  {
   "cell_type": "code",
   "execution_count": 6,
   "metadata": {},
   "outputs": [],
   "source": [
    "def step(model, x, y):\n",
    "    z = model(x, y)\n",
    "    z.sum().backward()\n",
    "\n",
    "device_type = 'cuda' if torch.cuda.is_available() else 'cpu'\n",
    "autocast_ctx_mgr = torch.autocast(device_type=device_type, dtype=torch.bfloat16)\n",
    "# autocast_ctx_mgr = torch.amp.autocast(device_type=device_type, dtype=torch.bfloat16)\n",
    "\n",
    "def autocast_step(model, x, y):\n",
    "    with autocast_ctx_mgr:\n",
    "        z = model(x, y)\n",
    "    z.sum().backward()"
   ]
  },
  {
   "cell_type": "code",
   "execution_count": 7,
   "metadata": {},
   "outputs": [],
   "source": [
    "matmul_model = MatMulModule().cuda()\n",
    "einsum_model = EinsumModule().cuda()"
   ]
  },
  {
   "cell_type": "code",
   "execution_count": 8,
   "metadata": {},
   "outputs": [
    {
     "name": "stdout",
     "output_type": "stream",
     "text": [
      "torch.matmul execution time: 3.65 miliseconds\n",
      "torch.einsum execution time: 3.79 miliseconds\n"
     ]
    }
   ],
   "source": [
    "repeat = 1000\n",
    "matmul_time = timeit.timeit(lambda: step(matmul_model, A, B), number=repeat)\n",
    "einsum_time = timeit.timeit(lambda: step(einsum_model, A, B), number=repeat)\n",
    "print(f\"torch.matmul execution time: {(matmul_time/repeat)*1000:.2f} miliseconds\")\n",
    "print(f\"torch.einsum execution time: {(einsum_time/repeat)*1000:.2f} miliseconds\")"
   ]
  },
  {
   "cell_type": "code",
   "execution_count": 9,
   "metadata": {},
   "outputs": [
    {
     "name": "stdout",
     "output_type": "stream",
     "text": [
      "torch.matmul execution time: 0.64 miliseconds\n",
      "torch.einsum execution time: 0.65 miliseconds\n"
     ]
    }
   ],
   "source": [
    "# autocast step\n",
    "repeat = 1000\n",
    "einsum_time = timeit.timeit(lambda: autocast_step(einsum_model, A, B), number=repeat)\n",
    "matmul_time = timeit.timeit(lambda: autocast_step(matmul_model, A, B), number=repeat)\n",
    "print(f\"torch.matmul execution time: {(matmul_time/repeat)*1000:.2f} miliseconds\")\n",
    "print(f\"torch.einsum execution time: {(einsum_time/repeat)*1000:.2f} miliseconds\")"
   ]
  },
  {
   "cell_type": "code",
   "execution_count": 15,
   "metadata": {},
   "outputs": [],
   "source": [
    "# compile the model\n",
    "matmul_model_ = torch.compile(matmul_model)\n",
    "einsum_model_ = torch.compile(einsum_model)\n",
    "matmul_model_(A, B);\n",
    "einsum_model_(A, B);"
   ]
  },
  {
   "cell_type": "code",
   "execution_count": 16,
   "metadata": {},
   "outputs": [
    {
     "name": "stdout",
     "output_type": "stream",
     "text": [
      "torch.matmul execution time: 3.54 miliseconds\n",
      "torch.einsum execution time: 3.73 miliseconds\n"
     ]
    }
   ],
   "source": [
    "\n",
    "# run the compiled model\n",
    "repeat = 1000\n",
    "matmul_time = timeit.timeit(lambda: step(matmul_model_, A, B), number=repeat)\n",
    "einsum_time = timeit.timeit(lambda: step(einsum_model_, A, B), number=repeat)\n",
    "print(f\"torch.matmul execution time: {(matmul_time/repeat)*1000:.2f} miliseconds\")\n",
    "print(f\"torch.einsum execution time: {(einsum_time/repeat)*1000:.2f} miliseconds\")"
   ]
  },
  {
   "cell_type": "code",
   "execution_count": 17,
   "metadata": {},
   "outputs": [
    {
     "name": "stdout",
     "output_type": "stream",
     "text": [
      "torch.matmul execution time: 0.65 miliseconds\n",
      "torch.einsum execution time: 0.66 miliseconds\n"
     ]
    }
   ],
   "source": [
    "# compile the model + autocast\n",
    "repeat = 1000\n",
    "matmul_time = timeit.timeit(lambda: autocast_step(matmul_model_, A, B), number=repeat)\n",
    "einsum_time = timeit.timeit(lambda: autocast_step(einsum_model_, A, B), number=repeat)\n",
    "print(f\"torch.matmul execution time: {(matmul_time/repeat)*1000:.2f} miliseconds\")\n",
    "print(f\"torch.einsum execution time: {(einsum_time/repeat)*1000:.2f} miliseconds\")"
   ]
  },
  {
   "cell_type": "markdown",
   "metadata": {},
   "source": [
    "## `torch.einsum` vs `opt_einsum`"
   ]
  },
  {
   "cell_type": "code",
   "execution_count": 13,
   "metadata": {},
   "outputs": [],
   "source": [
    "import torch\n",
    "from opt_einsum import contract\n",
    "import numpy as np"
   ]
  },
  {
   "cell_type": "code",
   "execution_count": 5,
   "metadata": {},
   "outputs": [],
   "source": [
    "B, T, D, H, R = 32, 1024, 512, 8, 16\n",
    "\n",
    "attn_scores_ = torch.randn(B, H, T, T).cuda()\n",
    "attn_scores = torch.nn.functional.softmax(attn_scores_, dim=-1)\n",
    "\n",
    "relations = torch.randn(B, T, T, R).cuda()"
   ]
  },
  {
   "cell_type": "code",
   "execution_count": 9,
   "metadata": {},
   "outputs": [
    {
     "name": "stdout",
     "output_type": "stream",
     "text": [
      "5.35 ms ± 11.9 µs per loop (mean ± std. dev. of 7 runs, 1,000 loops each)\n"
     ]
    }
   ],
   "source": [
    "%timeit torch.einsum('bhij,bijr->bihr', attn_scores, relations) # (bs, seqlen, n_heads, n_relations)"
   ]
  },
  {
   "cell_type": "code",
   "execution_count": 10,
   "metadata": {},
   "outputs": [
    {
     "name": "stdout",
     "output_type": "stream",
     "text": [
      "The slowest run took 10.94 times longer than the fastest. This could mean that an intermediate result is being cached.\n",
      "28.3 ms ± 26.4 ms per loop (mean ± std. dev. of 7 runs, 100 loops each)\n"
     ]
    }
   ],
   "source": [
    "%timeit contract('bhij,bijr->bihr', attn_scores, relations, backend='torch') # (bs, seqlen, n_heads, n_relations)"
   ]
  },
  {
   "cell_type": "code",
   "execution_count": 18,
   "metadata": {},
   "outputs": [],
   "source": [
    "B, T, D, H, R = 32, 256, 64, 4, 8\n",
    "\n",
    "attn_scores_ = torch.randn(B, H, T, T)\n",
    "attn_scores = torch.nn.functional.softmax(attn_scores_, dim=-1).numpy()\n",
    "\n",
    "relations = torch.randn(B, T, T, R).numpy()"
   ]
  },
  {
   "cell_type": "code",
   "execution_count": 20,
   "metadata": {},
   "outputs": [
    {
     "name": "stdout",
     "output_type": "stream",
     "text": [
      "88.7 ms ± 216 µs per loop (mean ± std. dev. of 7 runs, 10 loops each)\n"
     ]
    }
   ],
   "source": [
    "%timeit np.einsum('bhij,bijr->bihr', attn_scores, relations) # (bs, seqlen, n_heads, n_relations)"
   ]
  },
  {
   "cell_type": "code",
   "execution_count": 21,
   "metadata": {},
   "outputs": [
    {
     "name": "stdout",
     "output_type": "stream",
     "text": [
      "88.9 ms ± 283 µs per loop (mean ± std. dev. of 7 runs, 10 loops each)\n"
     ]
    }
   ],
   "source": [
    "%timeit contract('bhij,bijr->bihr', attn_scores, relations) # (bs, seqlen, n_heads, n_relations)"
   ]
  }
 ],
 "metadata": {
  "kernelspec": {
   "display_name": "Python 3",
   "language": "python",
   "name": "python3"
  },
  "language_info": {
   "codemirror_mode": {
    "name": "ipython",
    "version": 3
   },
   "file_extension": ".py",
   "mimetype": "text/x-python",
   "name": "python",
   "nbconvert_exporter": "python",
   "pygments_lexer": "ipython3",
   "version": "3.11.7"
  }
 },
 "nbformat": 4,
 "nbformat_minor": 2
}
